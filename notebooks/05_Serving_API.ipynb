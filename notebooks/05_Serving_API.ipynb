{
 "cells": [
  {
   "cell_type": "markdown",
   "metadata": {},
   "source": [
    "Step 1: Define a Proxy Variable for Default Risk (Good/Bad Labels)\n",
    "Since the dataset lacks a true \"default\" label, you must create one using RFMS metrics derived from transaction behavior. Here’s how:\n",
    "\n",
    "1.1 Calculate RFMS Features\n",
    "From your processed training data (x_train_processed.csv), compute:\n",
    "\n",
    "Recency (R): Days since the customer’s last transaction (lower = better).\n",
    "\n",
    "Frequency (F): Total number of transactions (higher = better).\n",
    "\n",
    "Monetary (M): Total transaction amount (higher = better).\n",
    "\n",
    "Stability (S): Consistency of transactions (e.g., standard deviation of transaction intervals; lower = better)"
   ]
  }
 ],
 "metadata": {
  "kernelspec": {
   "display_name": "myenv",
   "language": "python",
   "name": "python3"
  },
  "language_info": {
   "codemirror_mode": {
    "name": "ipython",
    "version": 3
   },
   "file_extension": ".py",
   "mimetype": "text/x-python",
   "name": "python",
   "nbconvert_exporter": "python",
   "pygments_lexer": "ipython3",
   "version": "3.12.0"
  }
 },
 "nbformat": 4,
 "nbformat_minor": 2
}
